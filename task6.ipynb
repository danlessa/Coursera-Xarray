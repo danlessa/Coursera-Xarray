{
 "cells": [
  {
   "cell_type": "markdown",
   "metadata": {},
   "source": [
    "# Merge and concatenate datasets\n",
    "\n",
    "Reference notebook for the sixth task of the Climate Geospatial Analysis with Python and Xarray project on Coursera.\n",
    "\n",
    "Instructor: Danilo Lessa Bernardineli (https://danlessa.github.io/)\n",
    "\n",
    "---\n",
    "\n",
    "- Welcome back! On this task, we are going to learn how we merge and concatenate datasets and variables on Xarray. This is important if you are generating data or handling several sources, as it allows you to mix everything together into a single object.\n",
    "- So let's start by opening the task 6 notebook. Run everything as it is."
   ]
  },
  {
   "cell_type": "code",
   "execution_count": 1,
   "metadata": {},
   "outputs": [],
   "source": [
    "import xarray as xr"
   ]
  },
  {
   "cell_type": "code",
   "execution_count": 2,
   "metadata": {},
   "outputs": [],
   "source": [
    "ds = xr.open_dataset('data.nc').sel(expver=1)"
   ]
  }
 ],
 "metadata": {
  "kernelspec": {
   "display_name": "Python 3",
   "language": "python",
   "name": "python3"
  },
  "language_info": {
   "codemirror_mode": {
    "name": "ipython",
    "version": 3
   },
   "file_extension": ".py",
   "mimetype": "text/x-python",
   "name": "python",
   "nbconvert_exporter": "python",
   "pygments_lexer": "ipython3",
   "version": "3.7.6"
  }
 },
 "nbformat": 4,
 "nbformat_minor": 4
}
